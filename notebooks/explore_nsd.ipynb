{
 "cells": [
  {
   "cell_type": "code",
   "execution_count": 1,
   "metadata": {},
   "outputs": [
    {
     "name": "stderr",
     "output_type": "stream",
     "text": [
      "/tmp/ipykernel_157400/1760399665.py:1: DeprecationWarning: \n",
      "Pyarrow will become a required dependency of pandas in the next major release of pandas (pandas 3.0),\n",
      "(to allow more performant data types, such as the Arrow string type, and better interoperability with other libraries)\n",
      "but was not found to be installed on your system.\n",
      "If this would cause problems for you,\n",
      "please provide us feedback at https://github.com/pandas-dev/pandas/issues/54466\n",
      "        \n",
      "  import pandas as pd\n"
     ]
    }
   ],
   "source": [
    "import pandas as pd\n",
    "import h5py\n",
    "from tqdm.notebook import tqdm\n",
    "import skimage.io as sio\n",
    "import os\n",
    "import numpy as np\n",
    "from joblib import Parallel, delayed\n",
    "from os.path import join as pjoin\n",
    "import matplotlib.pyplot as plt\n",
    "from nilearn.image import load_img, new_img_like\n",
    "from nilearn.masking import apply_mask\n",
    "import re"
   ]
  },
  {
   "cell_type": "markdown",
   "metadata": {},
   "source": [
    "# Load predicted dimensions"
   ]
  },
  {
   "cell_type": "code",
   "execution_count": 53,
   "metadata": {},
   "outputs": [],
   "source": [
    "from dimension_encoding.nsd import NsdLoader, nsd_fnames_to_indices"
   ]
  },
  {
   "cell_type": "code",
   "execution_count": 3,
   "metadata": {},
   "outputs": [],
   "source": [
    "dl = NsdLoader()\n",
    "subj='01'"
   ]
  },
  {
   "cell_type": "code",
   "execution_count": 4,
   "metadata": {},
   "outputs": [],
   "source": [
    "embedding, fnames = dl.load_predicted_spose_dimensions()\n",
    "embedding_indices = nsd_fnames_to_indices(fnames)"
   ]
  },
  {
   "cell_type": "code",
   "execution_count": 5,
   "metadata": {},
   "outputs": [],
   "source": [
    "bmask = dl.get_bmask_file(subj)"
   ]
  },
  {
   "cell_type": "code",
   "execution_count": 6,
   "metadata": {},
   "outputs": [],
   "source": [
    "trialinfo = dl.load_trialinfo(subj)"
   ]
  },
  {
   "cell_type": "code",
   "execution_count": 8,
   "metadata": {},
   "outputs": [
    {
     "name": "stderr",
     "output_type": "stream",
     "text": [
      "loading session betas: 100%|██████████| 40/40 [00:54<00:00,  1.37s/it]\n"
     ]
    }
   ],
   "source": [
    "betas = dl.load_betas(subj)"
   ]
  },
  {
   "cell_type": "markdown",
   "metadata": {},
   "source": [
    "# Save NSD images to a folder for predicting behavioral dimensions"
   ]
  },
  {
   "cell_type": "markdown",
   "metadata": {},
   "source": [
    "... Currently, they're in a hdf file"
   ]
  },
  {
   "cell_type": "code",
   "execution_count": 4,
   "metadata": {},
   "outputs": [],
   "source": [
    "# hdf5_fp = '../data/nsd/stimuli/nsd_stimuli.hdf5'\n",
    "\n",
    "# # takes ~ 1 min to run, \n",
    "# with h5py.File(hdf5_fp, 'r+') as f:\n",
    "#     a_group_key = list(f.keys())[0]\n",
    "#     ds_arr = f[a_group_key][()]  # returns as a numpy array\n",
    "\n",
    "# stiminfo = pd.read_csv('../data/nsd/stimuli/nsd_stim_info_merged.csv').drop(columns='Unnamed: 0')\n",
    "\n",
    "# subname = 'subject1'\n",
    "\n",
    "# outdir = f'../data/nsd/stimuli/{subname}'\n",
    "# os.makedirs(outdir, exist_ok=True)\n",
    "\n",
    "\n",
    "# submask = stiminfo[subname].to_numpy().astype(bool)\n",
    "# subimages = ds_arr[submask]\n",
    "\n",
    "# stiminfo_sub = stiminfo.loc[stiminfo[subname] == 1]\n",
    "# stiminfo_sub.to_csv(pjoin(outdir, f'stiminfo_{subname}.tsv'), sep='\\t')\n",
    "\n",
    "# outdir = '../data/nsd/stimuli/allimages'\n",
    "# os.makedirs(outdir, exist_ok=True)\n",
    "\n",
    "# def save_img(im_i, im, stiminfo, outdir):\n",
    "#     iminfo = stiminfo.iloc[im_i]\n",
    "#     fn = f\"index-{im_i}_cocoId-{iminfo['cocoId']}_nsdId-{iminfo['nsdId']}_cocoSplit-{iminfo['cocoSplit']}.png\"\n",
    "#     fp = pjoin(outdir, fn)\n",
    "#     sio.imsave(fp, im)\n",
    "\n",
    "# parallel = Parallel(n_jobs=6)\n",
    "# _ = parallel(\n",
    "#     delayed(save_img)(im_i, im, stiminfo, outdir) \n",
    "#     for im_i, im in tqdm(enumerate(ds_arr), total=len(ds_arr))\n",
    "#     )"
   ]
  }
 ],
 "metadata": {
  "kernelspec": {
   "display_name": "dimension_encoding_env",
   "language": "python",
   "name": "python3"
  },
  "language_info": {
   "codemirror_mode": {
    "name": "ipython",
    "version": 3
   },
   "file_extension": ".py",
   "mimetype": "text/x-python",
   "name": "python",
   "nbconvert_exporter": "python",
   "pygments_lexer": "ipython3",
   "version": "3.9.18"
  }
 },
 "nbformat": 4,
 "nbformat_minor": 2
}
