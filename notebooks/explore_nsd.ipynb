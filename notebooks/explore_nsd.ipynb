{
 "cells": [
  {
   "cell_type": "code",
   "execution_count": 84,
   "metadata": {},
   "outputs": [],
   "source": [
    "import pandas as pd\n",
    "import h5py\n",
    "from tqdm.notebook import tqdm\n",
    "import skimage.io as sio\n",
    "import os\n",
    "import numpy as np\n",
    "from joblib import Parallel, delayed\n",
    "from os.path import join as pjoin\n",
    "import matplotlib.pyplot as plt\n",
    "from nilearn.image import load_img, new_img_like\n",
    "from nilearn.masking import apply_mask\n",
    "import re"
   ]
  },
  {
   "cell_type": "markdown",
   "metadata": {},
   "source": [
    "# Load predicted dimensions"
   ]
  },
  {
   "cell_type": "code",
   "execution_count": 1,
   "metadata": {},
   "outputs": [
    {
     "ename": "",
     "evalue": "",
     "output_type": "error",
     "traceback": [
      "\u001b[1;31mThe Kernel crashed while executing code in the current cell or a previous cell. \n",
      "\u001b[1;31mPlease review the code in the cell(s) to identify a possible cause of the failure. \n",
      "\u001b[1;31mClick <a href='https://aka.ms/vscodeJupyterKernelCrash'>here</a> for more info. \n",
      "\u001b[1;31mView Jupyter <a href='command:jupyter.viewOutput'>log</a> for further details."
     ]
    }
   ],
   "source": [
    "from dimension_encoding.nsd import NsdLoader"
   ]
  },
  {
   "cell_type": "code",
   "execution_count": 97,
   "metadata": {},
   "outputs": [],
   "source": [
    "dl = NsdLoader()\n",
    "subj='01'"
   ]
  },
  {
   "cell_type": "code",
   "execution_count": 98,
   "metadata": {},
   "outputs": [],
   "source": [
    "embedding, fnames = dl.load_predicted_spose_dimensions()"
   ]
  },
  {
   "cell_type": "code",
   "execution_count": 99,
   "metadata": {},
   "outputs": [],
   "source": [
    "bmask = dl.get_bmask_file(subj)"
   ]
  },
  {
   "cell_type": "code",
   "execution_count": 100,
   "metadata": {},
   "outputs": [
    {
     "data": {
      "application/json": {
       "ascii": false,
       "bar_format": null,
       "colour": null,
       "elapsed": 0.0035216808319091797,
       "initial": 0,
       "n": 0,
       "ncols": null,
       "nrows": null,
       "postfix": null,
       "prefix": "",
       "rate": null,
       "total": 30000,
       "unit": "it",
       "unit_divisor": 1000,
       "unit_scale": false
      },
      "application/vnd.jupyter.widget-view+json": {
       "model_id": "ee891002cc15404795fec6f825f9ed9f",
       "version_major": 2,
       "version_minor": 0
      },
      "text/plain": [
       "  0%|          | 0/30000 [00:00<?, ?it/s]"
      ]
     },
     "metadata": {},
     "output_type": "display_data"
    }
   ],
   "source": [
    "X_dim = dl.make_dimensions_model(subj)"
   ]
  },
  {
   "cell_type": "code",
   "execution_count": 22,
   "metadata": {},
   "outputs": [
    {
     "data": {
      "application/json": {
       "ascii": false,
       "bar_format": null,
       "colour": null,
       "elapsed": 0.008249282836914062,
       "initial": 0,
       "n": 0,
       "ncols": null,
       "nrows": null,
       "postfix": null,
       "prefix": "loading session betas",
       "rate": null,
       "total": 40,
       "unit": "it",
       "unit_divisor": 1000,
       "unit_scale": false
      },
      "application/vnd.jupyter.widget-view+json": {
       "model_id": "5b04e596746746a4a6ade6b3f927830e",
       "version_major": 2,
       "version_minor": 0
      },
      "text/plain": [
       "loading session betas:   0%|          | 0/40 [00:00<?, ?it/s]"
      ]
     },
     "metadata": {},
     "output_type": "display_data"
    }
   ],
   "source": [
    "# almost 10 minutes!\n",
    "betas = dl.load_betas(subj, njobs=10)"
   ]
  },
  {
   "cell_type": "markdown",
   "metadata": {},
   "source": [
    "# Save NSD images to a folder for predicting behavioral dimensions"
   ]
  },
  {
   "cell_type": "markdown",
   "metadata": {},
   "source": [
    "... Currently, they're in a hdf file"
   ]
  },
  {
   "cell_type": "code",
   "execution_count": 4,
   "metadata": {},
   "outputs": [],
   "source": [
    "# hdf5_fp = '../data/nsd/stimuli/nsd_stimuli.hdf5'\n",
    "\n",
    "# # takes ~ 1 min to run, \n",
    "# with h5py.File(hdf5_fp, 'r+') as f:\n",
    "#     a_group_key = list(f.keys())[0]\n",
    "#     ds_arr = f[a_group_key][()]  # returns as a numpy array\n",
    "\n",
    "# stiminfo = pd.read_csv('../data/nsd/stimuli/nsd_stim_info_merged.csv').drop(columns='Unnamed: 0')\n",
    "\n",
    "# subname = 'subject1'\n",
    "\n",
    "# outdir = f'../data/nsd/stimuli/{subname}'\n",
    "# os.makedirs(outdir, exist_ok=True)\n",
    "\n",
    "\n",
    "# submask = stiminfo[subname].to_numpy().astype(bool)\n",
    "# subimages = ds_arr[submask]\n",
    "\n",
    "# stiminfo_sub = stiminfo.loc[stiminfo[subname] == 1]\n",
    "# stiminfo_sub.to_csv(pjoin(outdir, f'stiminfo_{subname}.tsv'), sep='\\t')\n",
    "\n",
    "# outdir = '../data/nsd/stimuli/allimages'\n",
    "# os.makedirs(outdir, exist_ok=True)\n",
    "\n",
    "# def save_img(im_i, im, stiminfo, outdir):\n",
    "#     iminfo = stiminfo.iloc[im_i]\n",
    "#     fn = f\"index-{im_i}_cocoId-{iminfo['cocoId']}_nsdId-{iminfo['nsdId']}_cocoSplit-{iminfo['cocoSplit']}.png\"\n",
    "#     fp = pjoin(outdir, fn)\n",
    "#     sio.imsave(fp, im)\n",
    "\n",
    "# parallel = Parallel(n_jobs=6)\n",
    "# _ = parallel(\n",
    "#     delayed(save_img)(im_i, im, stiminfo, outdir) \n",
    "#     for im_i, im in tqdm(enumerate(ds_arr), total=len(ds_arr))\n",
    "#     )"
   ]
  }
 ],
 "metadata": {
  "kernelspec": {
   "display_name": "dimension_encoding_env",
   "language": "python",
   "name": "python3"
  },
  "language_info": {
   "codemirror_mode": {
    "name": "ipython",
    "version": 3
   },
   "file_extension": ".py",
   "mimetype": "text/x-python",
   "name": "python",
   "nbconvert_exporter": "python",
   "pygments_lexer": "ipython3",
   "version": "3.9.18"
  }
 },
 "nbformat": 4,
 "nbformat_minor": 2
}
