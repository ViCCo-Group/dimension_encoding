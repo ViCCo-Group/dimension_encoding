{
 "cells": [
  {
   "cell_type": "code",
   "execution_count": 2,
   "metadata": {},
   "outputs": [],
   "source": [
    "from os.path import join as pjoin\n",
    "import os\n",
    "import numpy as np\n",
    "from nilearn.image import load_img, new_img_like\n",
    "from nilearn.masking import apply_mask, unmask\n",
    "from tqdm import tqdm\n",
    "import glob\n",
    "from dimension_encoding.b5k import B5kLoader, compute_noise_ceiling_b5k\n",
    "import pandas as pd\n",
    "from scipy.stats import zscore\n",
    "from dimension_encoding.plotting import plot_bothends_k_rows, plot_topk_rows, plot_list_of_images\n",
    "from dimension_encoding.glm import LinRegCVPermutation\n",
    "from dimension_encoding.utils import calc_nc"
   ]
  },
  {
   "cell_type": "code",
   "execution_count": 3,
   "metadata": {},
   "outputs": [
    {
     "name": "stdout",
     "output_type": "stream",
     "text": [
      "B5k data loading from: ../data/b5k/\n"
     ]
    }
   ],
   "source": [
    "dl = B5kLoader()\n",
    "subject = \"CSI1\""
   ]
  },
  {
   "cell_type": "markdown",
   "metadata": {},
   "source": [
    "# Inspect embedding"
   ]
  },
  {
   "cell_type": "code",
   "execution_count": 4,
   "metadata": {},
   "outputs": [],
   "source": [
    "plotdir = os.path.join(os.pardir, 'plots', 'b5k_predicted_dimensions_imagenetcoco')\n",
    "os.makedirs(plotdir, exist_ok=True)\n",
    "\n",
    "embedding, fnames = dl.load_predicted_spose_dimensions(image_sets=['imagenet', 'coco'])\n",
    "stim_dirs = [\n",
    "    '/SOFTWARE/LABSHARE/bold5000_imagenet', \n",
    "    '/SOFTWARE/LABSHARE/bold5000_coco'\n",
    "    ]\n",
    "fullpaths = np.array(glob.glob(pjoin(stim_dirs[0], '*')) + glob.glob(pjoin(stim_dirs[1], '*')))\n",
    "# fullpaths = np.array(glob.glob('/SOFTWARE/LABSHARE/bold5000_coco/*'))\n",
    "\n",
    "labels = np.loadtxt('../data/66d/labels_short.txt', dtype=str, usecols=0)"
   ]
  },
  {
   "cell_type": "code",
   "execution_count": 15,
   "metadata": {},
   "outputs": [],
   "source": [
    "# fig = plot_topk_rows(embedding, fullpaths, topk=30)\n",
    "# fig = plot_bothends_k_rows(embedding, fullpaths)"
   ]
  },
  {
   "cell_type": "code",
   "execution_count": 6,
   "metadata": {},
   "outputs": [
    {
     "name": "stderr",
     "output_type": "stream",
     "text": [
      "100%|██████████| 66/66 [02:30<00:00,  2.28s/it]\n"
     ]
    }
   ],
   "source": [
    "show_n=100\n",
    "import matplotlib.pyplot as plt\n",
    "for dimi, (dim, label) in tqdm(enumerate(zip(embedding.T, labels)), total=len(labels)):\n",
    "    topims = fullpaths[np.argsort(dim)[-show_n:]]\n",
    "    fig = plot_list_of_images(topims)\n",
    "    plt.suptitle(label, y=1.05, fontsize=24)\n",
    "    fig.show()\n",
    "    fig.savefig(os.path.join(plotdir, f'dim-{dimi+1}.jpg'), bbox_inches='tight')\n",
    "    plt.close(fig)"
   ]
  },
  {
   "cell_type": "markdown",
   "metadata": {},
   "source": [
    "# Test encoding"
   ]
  },
  {
   "cell_type": "code",
   "execution_count": null,
   "metadata": {},
   "outputs": [],
   "source": [
    "X_dims, trial_is, stims = dl.make_dimensions_model(subject)\n",
    "X_dims = zscore(X_dims, axis=0)"
   ]
  },
  {
   "cell_type": "code",
   "execution_count": 8,
   "metadata": {},
   "outputs": [],
   "source": [
    "responses = dl.load_responses(subject)\n",
    "y = responses[trial_is]"
   ]
  },
  {
   "cell_type": "code",
   "execution_count": 9,
   "metadata": {},
   "outputs": [],
   "source": [
    "# ntrials = y.shape[0]\n",
    "# for i in range(1,1_000_000):\n",
    "#     isdivisible = ntrials % i == 0\n",
    "#     if isdivisible:\n",
    "#         print(f\"ntrials is divisible by {i}\")"
   ]
  },
  {
   "cell_type": "code",
   "execution_count": 10,
   "metadata": {},
   "outputs": [],
   "source": [
    "# just for testing\n",
    "y, X_dims = y[:21], X_dims[:21]"
   ]
  },
  {
   "cell_type": "code",
   "execution_count": 11,
   "metadata": {},
   "outputs": [],
   "source": [
    "# # estimate prediction performance\n",
    "# model = LinRegCVPermutation(nfolds=7, nperm=0)\n",
    "# r, pval = model.fit_and_permute(X_dims, y)"
   ]
  },
  {
   "cell_type": "code",
   "execution_count": 12,
   "metadata": {},
   "outputs": [],
   "source": [
    "# Try a fracridge to get cleaner beta maps\n",
    "# from dimension_encoding.glm import FracRidgeVoxelwise\n",
    "# from scipy.stats import zscore\n",
    "# X_dims = np.nan_to_num(zscore(X_dims, axis=0))\n",
    "# y = np.nan_to_num(zscore(y, axis=0))\n",
    "# fr = FracRidgeVoxelwise(\n",
    "#     n_splits=7,\n",
    "#     test_size=0., # we don't care about prediction performance in this step\n",
    "#     fracs=np.arange(0.01, 1.01, 0.01),\n",
    "#     run_pcorr=False,\n",
    "#     # fracridge_kws={},\n",
    "# )\n",
    "# betas, _, r2_test_overfit, best_fracs, _ = fr.tune_and_eval(X_dims, y)"
   ]
  },
  {
   "cell_type": "code",
   "execution_count": null,
   "metadata": {},
   "outputs": [],
   "source": []
  }
 ],
 "metadata": {
  "kernelspec": {
   "display_name": "thingsmri_env",
   "language": "python",
   "name": "python3"
  },
  "language_info": {
   "codemirror_mode": {
    "name": "ipython",
    "version": 3
   },
   "file_extension": ".py",
   "mimetype": "text/x-python",
   "name": "python",
   "nbconvert_exporter": "python",
   "pygments_lexer": "ipython3",
   "version": "3.9.18"
  }
 },
 "nbformat": 4,
 "nbformat_minor": 2
}
