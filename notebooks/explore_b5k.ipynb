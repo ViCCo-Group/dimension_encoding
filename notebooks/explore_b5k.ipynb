{
 "cells": [
  {
   "cell_type": "code",
   "execution_count": 1,
   "metadata": {},
   "outputs": [],
   "source": [
    "from os.path import join as pjoin\n",
    "import os\n",
    "import numpy as np\n",
    "from nilearn.image import load_img, new_img_like\n",
    "from nilearn.masking import apply_mask, unmask\n",
    "from tqdm import tqdm\n",
    "from dimension_encoding.b5k import B5kLoader"
   ]
  },
  {
   "cell_type": "code",
   "execution_count": 2,
   "metadata": {},
   "outputs": [
    {
     "name": "stdout",
     "output_type": "stream",
     "text": [
      "B5k data loading from: ../data/b5k/\n"
     ]
    }
   ],
   "source": [
    "dl = B5kLoader()"
   ]
  },
  {
   "cell_type": "code",
   "execution_count": 3,
   "metadata": {},
   "outputs": [],
   "source": [
    "# responses = dl.load_responses(\"CSI1\")"
   ]
  }
 ],
 "metadata": {
  "kernelspec": {
   "display_name": "thingsmri_env",
   "language": "python",
   "name": "python3"
  },
  "language_info": {
   "codemirror_mode": {
    "name": "ipython",
    "version": 3
   },
   "file_extension": ".py",
   "mimetype": "text/x-python",
   "name": "python",
   "nbconvert_exporter": "python",
   "pygments_lexer": "ipython3",
   "version": "3.9.18"
  }
 },
 "nbformat": 4,
 "nbformat_minor": 2
}
