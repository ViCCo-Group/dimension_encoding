{
 "cells": [
  {
   "cell_type": "code",
   "execution_count": 1,
   "metadata": {},
   "outputs": [],
   "source": [
    "from dimension_encoding.utils import load_singletrial_data\n",
    "from dimension_encoding.shapemodel import load_shapecomps, make_shape_model, find_embedding_fmritrials\n",
    "from os.path import join as pjoin, pardir\n",
    "import pandas as pd\n",
    "import numpy as np\n",
    "from dimension_encoding.utils import load_clip66_preds"
   ]
  },
  {
   "cell_type": "code",
   "execution_count": 2,
   "metadata": {},
   "outputs": [
    {
     "name": "stdout",
     "output_type": "stream",
     "text": [
      "loading responses\n",
      "dropping \"voxel_id\" column from response data\n",
      "loading meta data\n"
     ]
    }
   ],
   "source": [
    "bidsroot = '/LOCAL/ocontier/thingsmri/bids'\n",
    "sub = '01'\n",
    "respdata, voxdata, stimdata = load_singletrial_data(bidsroot, sub, drop_voxelid=True)"
   ]
  },
  {
   "cell_type": "code",
   "execution_count": 3,
   "metadata": {},
   "outputs": [],
   "source": [
    "shapecomps, shapecomp_fnames = load_shapecomps()"
   ]
  },
  {
   "cell_type": "code",
   "execution_count": 4,
   "metadata": {},
   "outputs": [],
   "source": [
    "val_fmri_inds, X_shape = make_shape_model(stimdata, shapecomps, shapecomp_fnames)"
   ]
  },
  {
   "cell_type": "code",
   "execution_count": 5,
   "metadata": {},
   "outputs": [],
   "source": [
    "# filter fMRI trials based on shape model\n",
    "y = respdata.to_numpy().T[val_fmri_inds]\n",
    "stimdata_val = stimdata.iloc[val_fmri_inds]"
   ]
  },
  {
   "cell_type": "code",
   "execution_count": 8,
   "metadata": {},
   "outputs": [
    {
     "name": "stderr",
     "output_type": "stream",
     "text": [
      "find dimensions for fMRI stimuli: 100%|██████████| 8930/8930 [00:29<00:00, 299.84it/s]\n"
     ]
    }
   ],
   "source": [
    "# load the behavior model\n",
    "dim66dir = pjoin(pardir, 'data', '66d')\n",
    "embedding, filenames, labels = load_clip66_preds(dim66dir)\n",
    "trials = find_embedding_fmritrials(stimdata_val, dim66dir)\n",
    "X_dims = trials.drop(columns=['imagename'], inplace=False).to_numpy()"
   ]
  }
 ],
 "metadata": {
  "kernelspec": {
   "display_name": "dimension_encoding_env",
   "language": "python",
   "name": "python3"
  },
  "language_info": {
   "codemirror_mode": {
    "name": "ipython",
    "version": 3
   },
   "file_extension": ".py",
   "mimetype": "text/x-python",
   "name": "python",
   "nbconvert_exporter": "python",
   "pygments_lexer": "ipython3",
   "version": "3.9.18"
  }
 },
 "nbformat": 4,
 "nbformat_minor": 2
}
